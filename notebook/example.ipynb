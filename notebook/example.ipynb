{
 "cells": [
  {
   "cell_type": "code",
   "execution_count": 1,
   "metadata": {},
   "outputs": [],
   "source": [
    "import sys\n",
    "sys.path.insert(0, \"../\")"
   ]
  },
  {
   "cell_type": "code",
   "execution_count": 2,
   "metadata": {},
   "outputs": [],
   "source": [
    "import graph\n",
    "import schedule.flow_scheduler as fsch"
   ]
  },
  {
   "cell_type": "code",
   "execution_count": 3,
   "metadata": {},
   "outputs": [],
   "source": [
    "import math\n",
    "import random\n",
    "\n",
    "def unit_size_cb(r: int):\n",
    "    return 10000 * math.pow(10, random.randint(0, 1))"
   ]
  },
  {
   "cell_type": "code",
   "execution_count": 4,
   "metadata": {},
   "outputs": [
    {
     "name": "stdout",
     "output_type": "stream",
     "text": [
      "{'g-v1', 'g-v0'} {'g-v3', 'g-v2'}\n",
      "{'g-v0'} {'g-v3', 'g-v1', 'g-v2'}\n"
     ]
    }
   ],
   "source": [
    "source_selector = graph.SourceSelector({'rasp1': 8, 'rasp2': 8, 'rasp3': 8})\n",
    "gen_args = {\n",
    "        \"total_rank\": random.randint(3, 7),\n",
    "        \"max_node_per_rank\": random.randint(1, 3),\n",
    "        \"max_predecessors\": random.randint(1, 3),\n",
    "        \"mi_cb\": lambda: 1,\n",
    "        \"memory_cb\": lambda: int(2e8),\n",
    "        \"unit_size_cb\": unit_size_cb,\n",
    "        \"unit_rate_cb\": lambda: random.randint(10, 20),\n",
    "        \"source_hosts\": source_selector,\n",
    "        \"sink_hosts\": [\"cloud1\"],\n",
    "    }\n",
    "g = graph.GraphGenerator(\"g\", **gen_args).gen_dag_graph()\n",
    "for option in fsch.gen_cut_options(g):\n",
    "    print(option.s_cut, option.t_cut)"
   ]
  },
  {
   "cell_type": "code",
   "execution_count": 5,
   "metadata": {},
   "outputs": [
    {
     "name": "stdout",
     "output_type": "stream",
     "text": [
      "g-v0 -- 1200 --> g-v1\n",
      "g-v1 -- 110 --> g-v2\n",
      "g-v2 -- 110 --> g-v3\n"
     ]
    }
   ],
   "source": [
    "for u, v, e in g.get_edges():\n",
    "    print('{} -- {} --> {}'.format(u, int(e['unit_size']*e['per_second']/1e3), v))"
   ]
  }
 ],
 "metadata": {
  "interpreter": {
   "hash": "43d59183209fbb529fb955d20e56d6e78345fbb583b396cdff9bd3ffeb890291"
  },
  "kernelspec": {
   "display_name": "Python 3 (ipykernel)",
   "language": "python",
   "name": "python3"
  },
  "language_info": {
   "codemirror_mode": {
    "name": "ipython",
    "version": 3
   },
   "file_extension": ".py",
   "mimetype": "text/x-python",
   "name": "python",
   "nbconvert_exporter": "python",
   "pygments_lexer": "ipython3",
   "version": "3.7.13"
  }
 },
 "nbformat": 4,
 "nbformat_minor": 2
}